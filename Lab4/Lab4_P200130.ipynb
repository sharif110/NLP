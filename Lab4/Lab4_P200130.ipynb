{
 "cells": [
  {
   "cell_type": "markdown",
   "id": "a49cc15c",
   "metadata": {},
   "source": [
    "# Task 5: Finding Multiple Patterns automatically in Sentences"
   ]
  },
  {
   "cell_type": "code",
   "execution_count": 3,
   "id": "1fdd06a7",
   "metadata": {},
   "outputs": [],
   "source": [
    "import spacy\n",
    "from spacy.matcher import Matcher\n",
    "from spacy import displacy"
   ]
  },
  {
   "cell_type": "code",
   "execution_count": 4,
   "id": "fcfbc348",
   "metadata": {},
   "outputs": [],
   "source": [
    "nlp = spacy.load('en_core_web_sm')"
   ]
  },
  {
   "cell_type": "code",
   "execution_count": 5,
   "id": "a353c355",
   "metadata": {},
   "outputs": [],
   "source": [
    "matcher = Matcher(nlp.vocab)"
   ]
  },
  {
   "cell_type": "code",
   "execution_count": 6,
   "id": "8ea3c53f",
   "metadata": {},
   "outputs": [],
   "source": [
    "pattern1 = [{\"DEP\": \"nsubj\"}, {\"DEP\": \"ROOT\"}, {\"DEP\": \"dobj\"}]\n",
    "matcher.add(\"SubRootObject\", [pattern1])"
   ]
  },
  {
   "cell_type": "code",
   "execution_count": 7,
   "id": "61265ac4",
   "metadata": {},
   "outputs": [],
   "source": [
    "doc = nlp(\"The big dog chased everybody\")"
   ]
  },
  {
   "cell_type": "code",
   "execution_count": 8,
   "id": "afb3a4a3",
   "metadata": {},
   "outputs": [],
   "source": [
    "# Find matches\n",
    "matches = matcher(doc)"
   ]
  },
  {
   "cell_type": "code",
   "execution_count": 9,
   "id": "4d11eaf2",
   "metadata": {},
   "outputs": [
    {
     "data": {
      "text/html": [
       "<span class=\"tex2jax_ignore\"><svg xmlns=\"http://www.w3.org/2000/svg\" xmlns:xlink=\"http://www.w3.org/1999/xlink\" xml:lang=\"en\" id=\"56aba969a69648e98bd0f742037c2aaa-0\" class=\"displacy\" width=\"550\" height=\"237.0\" direction=\"ltr\" style=\"max-width: none; height: 237.0px; color: #000000; background: #ffffff; font-family: Arial; direction: ltr\">\n",
       "<text class=\"displacy-token\" fill=\"currentColor\" text-anchor=\"middle\" y=\"147.0\">\n",
       "    <tspan class=\"displacy-word\" fill=\"currentColor\" x=\"50\">The</tspan>\n",
       "    <tspan class=\"displacy-tag\" dy=\"2em\" fill=\"currentColor\" x=\"50\">DET</tspan>\n",
       "</text>\n",
       "\n",
       "<text class=\"displacy-token\" fill=\"currentColor\" text-anchor=\"middle\" y=\"147.0\">\n",
       "    <tspan class=\"displacy-word\" fill=\"currentColor\" x=\"150\">big</tspan>\n",
       "    <tspan class=\"displacy-tag\" dy=\"2em\" fill=\"currentColor\" x=\"150\">ADJ</tspan>\n",
       "</text>\n",
       "\n",
       "<text class=\"displacy-token\" fill=\"currentColor\" text-anchor=\"middle\" y=\"147.0\">\n",
       "    <tspan class=\"displacy-word\" fill=\"currentColor\" x=\"250\">dog</tspan>\n",
       "    <tspan class=\"displacy-tag\" dy=\"2em\" fill=\"currentColor\" x=\"250\">NOUN</tspan>\n",
       "</text>\n",
       "\n",
       "<text class=\"displacy-token\" fill=\"currentColor\" text-anchor=\"middle\" y=\"147.0\">\n",
       "    <tspan class=\"displacy-word\" fill=\"currentColor\" x=\"350\">chased</tspan>\n",
       "    <tspan class=\"displacy-tag\" dy=\"2em\" fill=\"currentColor\" x=\"350\">VERB</tspan>\n",
       "</text>\n",
       "\n",
       "<text class=\"displacy-token\" fill=\"currentColor\" text-anchor=\"middle\" y=\"147.0\">\n",
       "    <tspan class=\"displacy-word\" fill=\"currentColor\" x=\"450\">everybody</tspan>\n",
       "    <tspan class=\"displacy-tag\" dy=\"2em\" fill=\"currentColor\" x=\"450\">PRON</tspan>\n",
       "</text>\n",
       "\n",
       "<g class=\"displacy-arrow\">\n",
       "    <path class=\"displacy-arc\" id=\"arrow-56aba969a69648e98bd0f742037c2aaa-0-0\" stroke-width=\"2px\" d=\"M62,102.0 62,68.66666666666666 250.0,68.66666666666666 250.0,102.0\" fill=\"none\" stroke=\"currentColor\"/>\n",
       "    <text dy=\"1.25em\" style=\"font-size: 0.8em; letter-spacing: 1px\">\n",
       "        <textPath xlink:href=\"#arrow-56aba969a69648e98bd0f742037c2aaa-0-0\" class=\"displacy-label\" startOffset=\"50%\" side=\"left\" fill=\"currentColor\" text-anchor=\"middle\">det</textPath>\n",
       "    </text>\n",
       "    <path class=\"displacy-arrowhead\" d=\"M62,104.0 L58,96.0 66,96.0\" fill=\"currentColor\"/>\n",
       "</g>\n",
       "\n",
       "<g class=\"displacy-arrow\">\n",
       "    <path class=\"displacy-arc\" id=\"arrow-56aba969a69648e98bd0f742037c2aaa-0-1\" stroke-width=\"2px\" d=\"M162,102.0 162,85.33333333333333 247.0,85.33333333333333 247.0,102.0\" fill=\"none\" stroke=\"currentColor\"/>\n",
       "    <text dy=\"1.25em\" style=\"font-size: 0.8em; letter-spacing: 1px\">\n",
       "        <textPath xlink:href=\"#arrow-56aba969a69648e98bd0f742037c2aaa-0-1\" class=\"displacy-label\" startOffset=\"50%\" side=\"left\" fill=\"currentColor\" text-anchor=\"middle\">amod</textPath>\n",
       "    </text>\n",
       "    <path class=\"displacy-arrowhead\" d=\"M162,104.0 L158,96.0 166,96.0\" fill=\"currentColor\"/>\n",
       "</g>\n",
       "\n",
       "<g class=\"displacy-arrow\">\n",
       "    <path class=\"displacy-arc\" id=\"arrow-56aba969a69648e98bd0f742037c2aaa-0-2\" stroke-width=\"2px\" d=\"M262,102.0 262,85.33333333333333 347.0,85.33333333333333 347.0,102.0\" fill=\"none\" stroke=\"currentColor\"/>\n",
       "    <text dy=\"1.25em\" style=\"font-size: 0.8em; letter-spacing: 1px\">\n",
       "        <textPath xlink:href=\"#arrow-56aba969a69648e98bd0f742037c2aaa-0-2\" class=\"displacy-label\" startOffset=\"50%\" side=\"left\" fill=\"currentColor\" text-anchor=\"middle\">nsubj</textPath>\n",
       "    </text>\n",
       "    <path class=\"displacy-arrowhead\" d=\"M262,104.0 L258,96.0 266,96.0\" fill=\"currentColor\"/>\n",
       "</g>\n",
       "\n",
       "<g class=\"displacy-arrow\">\n",
       "    <path class=\"displacy-arc\" id=\"arrow-56aba969a69648e98bd0f742037c2aaa-0-3\" stroke-width=\"2px\" d=\"M362,102.0 362,85.33333333333333 447.0,85.33333333333333 447.0,102.0\" fill=\"none\" stroke=\"currentColor\"/>\n",
       "    <text dy=\"1.25em\" style=\"font-size: 0.8em; letter-spacing: 1px\">\n",
       "        <textPath xlink:href=\"#arrow-56aba969a69648e98bd0f742037c2aaa-0-3\" class=\"displacy-label\" startOffset=\"50%\" side=\"left\" fill=\"currentColor\" text-anchor=\"middle\">dobj</textPath>\n",
       "    </text>\n",
       "    <path class=\"displacy-arrowhead\" d=\"M447.0,104.0 L451.0,96.0 443.0,96.0\" fill=\"currentColor\"/>\n",
       "</g>\n",
       "</svg></span>"
      ],
      "text/plain": [
       "<IPython.core.display.HTML object>"
      ]
     },
     "metadata": {},
     "output_type": "display_data"
    }
   ],
   "source": [
    "# Display dependency visualization\n",
    "displacy.render(doc, style='dep', options={'compact': True, 'distance': 100})"
   ]
  },
  {
   "cell_type": "markdown",
   "id": "3dc8d288",
   "metadata": {},
   "source": [
    "# 1. What text and dependencies did the above code catch for the sentence “The big dog chased everybody”."
   ]
  },
  {
   "cell_type": "code",
   "execution_count": 10,
   "id": "10b56c16",
   "metadata": {},
   "outputs": [
    {
     "name": "stdout",
     "output_type": "stream",
     "text": [
      "Matching Sentence:  dog chased everybody\n",
      "Pattern Type:  SubRootObject\n",
      "Dependency: dog-429\n",
      "Dependency: chased-8206900633647566924\n",
      "Dependency: everybody-416\n"
     ]
    }
   ],
   "source": [
    "for pattern_id, start, end in matches:\n",
    "    print(\"Matching Sentence: \", doc[start:end])\n",
    "    print(\"Pattern Type: \", doc.vocab.strings[pattern_id])\n",
    "    for token in doc[start:end]:\n",
    "        print(\"Dependency: {}-{}\".format(token.text, token.dep))\n"
   ]
  },
  {
   "cell_type": "markdown",
   "id": "d1d00de2",
   "metadata": {},
   "source": [
    "# 2. Change the sentence to “The big dog chased the cat”. Does the pattern catch the SVO pattern? If not,add another pattern2 to the matcher. The pattern should be DEP: nsubj, DEP: ROOT, DEP: det, DEP: dobj. When done, update matcher.add(\"SubRootDetObject\", [pattern2])\n"
   ]
  },
  {
   "cell_type": "code",
   "execution_count": 11,
   "id": "ebe27641",
   "metadata": {},
   "outputs": [],
   "source": [
    "# Change the sentence\n",
    "doc = nlp(\"The big dog chased the cat\")"
   ]
  },
  {
   "cell_type": "code",
   "execution_count": 12,
   "id": "7ef9286c",
   "metadata": {},
   "outputs": [],
   "source": [
    "pattern2 = [{\"DEP\": \"nsubj\"}, {\"DEP\": \"ROOT\"}, {\"DEP\": \"det\"}, {\"DEP\": \"dobj\"}]\n",
    "matcher.add(\"SubRootDetObject\", [pattern2])\n"
   ]
  },
  {
   "cell_type": "code",
   "execution_count": 13,
   "id": "1701cba1",
   "metadata": {},
   "outputs": [],
   "source": [
    "# Find matches\n",
    "matches = matcher(doc)"
   ]
  },
  {
   "cell_type": "code",
   "execution_count": 14,
   "id": "67ef19af",
   "metadata": {},
   "outputs": [
    {
     "data": {
      "text/html": [
       "<span class=\"tex2jax_ignore\"><svg xmlns=\"http://www.w3.org/2000/svg\" xmlns:xlink=\"http://www.w3.org/1999/xlink\" xml:lang=\"en\" id=\"79062b25844a43a796a0c88e0565eb76-0\" class=\"displacy\" width=\"650\" height=\"237.0\" direction=\"ltr\" style=\"max-width: none; height: 237.0px; color: #000000; background: #ffffff; font-family: Arial; direction: ltr\">\n",
       "<text class=\"displacy-token\" fill=\"currentColor\" text-anchor=\"middle\" y=\"147.0\">\n",
       "    <tspan class=\"displacy-word\" fill=\"currentColor\" x=\"50\">The</tspan>\n",
       "    <tspan class=\"displacy-tag\" dy=\"2em\" fill=\"currentColor\" x=\"50\">DET</tspan>\n",
       "</text>\n",
       "\n",
       "<text class=\"displacy-token\" fill=\"currentColor\" text-anchor=\"middle\" y=\"147.0\">\n",
       "    <tspan class=\"displacy-word\" fill=\"currentColor\" x=\"150\">big</tspan>\n",
       "    <tspan class=\"displacy-tag\" dy=\"2em\" fill=\"currentColor\" x=\"150\">ADJ</tspan>\n",
       "</text>\n",
       "\n",
       "<text class=\"displacy-token\" fill=\"currentColor\" text-anchor=\"middle\" y=\"147.0\">\n",
       "    <tspan class=\"displacy-word\" fill=\"currentColor\" x=\"250\">dog</tspan>\n",
       "    <tspan class=\"displacy-tag\" dy=\"2em\" fill=\"currentColor\" x=\"250\">NOUN</tspan>\n",
       "</text>\n",
       "\n",
       "<text class=\"displacy-token\" fill=\"currentColor\" text-anchor=\"middle\" y=\"147.0\">\n",
       "    <tspan class=\"displacy-word\" fill=\"currentColor\" x=\"350\">chased</tspan>\n",
       "    <tspan class=\"displacy-tag\" dy=\"2em\" fill=\"currentColor\" x=\"350\">VERB</tspan>\n",
       "</text>\n",
       "\n",
       "<text class=\"displacy-token\" fill=\"currentColor\" text-anchor=\"middle\" y=\"147.0\">\n",
       "    <tspan class=\"displacy-word\" fill=\"currentColor\" x=\"450\">the</tspan>\n",
       "    <tspan class=\"displacy-tag\" dy=\"2em\" fill=\"currentColor\" x=\"450\">DET</tspan>\n",
       "</text>\n",
       "\n",
       "<text class=\"displacy-token\" fill=\"currentColor\" text-anchor=\"middle\" y=\"147.0\">\n",
       "    <tspan class=\"displacy-word\" fill=\"currentColor\" x=\"550\">cat</tspan>\n",
       "    <tspan class=\"displacy-tag\" dy=\"2em\" fill=\"currentColor\" x=\"550\">NOUN</tspan>\n",
       "</text>\n",
       "\n",
       "<g class=\"displacy-arrow\">\n",
       "    <path class=\"displacy-arc\" id=\"arrow-79062b25844a43a796a0c88e0565eb76-0-0\" stroke-width=\"2px\" d=\"M62,102.0 62,68.66666666666666 250.0,68.66666666666666 250.0,102.0\" fill=\"none\" stroke=\"currentColor\"/>\n",
       "    <text dy=\"1.25em\" style=\"font-size: 0.8em; letter-spacing: 1px\">\n",
       "        <textPath xlink:href=\"#arrow-79062b25844a43a796a0c88e0565eb76-0-0\" class=\"displacy-label\" startOffset=\"50%\" side=\"left\" fill=\"currentColor\" text-anchor=\"middle\">det</textPath>\n",
       "    </text>\n",
       "    <path class=\"displacy-arrowhead\" d=\"M62,104.0 L58,96.0 66,96.0\" fill=\"currentColor\"/>\n",
       "</g>\n",
       "\n",
       "<g class=\"displacy-arrow\">\n",
       "    <path class=\"displacy-arc\" id=\"arrow-79062b25844a43a796a0c88e0565eb76-0-1\" stroke-width=\"2px\" d=\"M162,102.0 162,85.33333333333333 247.0,85.33333333333333 247.0,102.0\" fill=\"none\" stroke=\"currentColor\"/>\n",
       "    <text dy=\"1.25em\" style=\"font-size: 0.8em; letter-spacing: 1px\">\n",
       "        <textPath xlink:href=\"#arrow-79062b25844a43a796a0c88e0565eb76-0-1\" class=\"displacy-label\" startOffset=\"50%\" side=\"left\" fill=\"currentColor\" text-anchor=\"middle\">amod</textPath>\n",
       "    </text>\n",
       "    <path class=\"displacy-arrowhead\" d=\"M162,104.0 L158,96.0 166,96.0\" fill=\"currentColor\"/>\n",
       "</g>\n",
       "\n",
       "<g class=\"displacy-arrow\">\n",
       "    <path class=\"displacy-arc\" id=\"arrow-79062b25844a43a796a0c88e0565eb76-0-2\" stroke-width=\"2px\" d=\"M262,102.0 262,85.33333333333333 347.0,85.33333333333333 347.0,102.0\" fill=\"none\" stroke=\"currentColor\"/>\n",
       "    <text dy=\"1.25em\" style=\"font-size: 0.8em; letter-spacing: 1px\">\n",
       "        <textPath xlink:href=\"#arrow-79062b25844a43a796a0c88e0565eb76-0-2\" class=\"displacy-label\" startOffset=\"50%\" side=\"left\" fill=\"currentColor\" text-anchor=\"middle\">nsubj</textPath>\n",
       "    </text>\n",
       "    <path class=\"displacy-arrowhead\" d=\"M262,104.0 L258,96.0 266,96.0\" fill=\"currentColor\"/>\n",
       "</g>\n",
       "\n",
       "<g class=\"displacy-arrow\">\n",
       "    <path class=\"displacy-arc\" id=\"arrow-79062b25844a43a796a0c88e0565eb76-0-3\" stroke-width=\"2px\" d=\"M462,102.0 462,85.33333333333333 547.0,85.33333333333333 547.0,102.0\" fill=\"none\" stroke=\"currentColor\"/>\n",
       "    <text dy=\"1.25em\" style=\"font-size: 0.8em; letter-spacing: 1px\">\n",
       "        <textPath xlink:href=\"#arrow-79062b25844a43a796a0c88e0565eb76-0-3\" class=\"displacy-label\" startOffset=\"50%\" side=\"left\" fill=\"currentColor\" text-anchor=\"middle\">det</textPath>\n",
       "    </text>\n",
       "    <path class=\"displacy-arrowhead\" d=\"M462,104.0 L458,96.0 466,96.0\" fill=\"currentColor\"/>\n",
       "</g>\n",
       "\n",
       "<g class=\"displacy-arrow\">\n",
       "    <path class=\"displacy-arc\" id=\"arrow-79062b25844a43a796a0c88e0565eb76-0-4\" stroke-width=\"2px\" d=\"M362,102.0 362,68.66666666666666 550.0,68.66666666666666 550.0,102.0\" fill=\"none\" stroke=\"currentColor\"/>\n",
       "    <text dy=\"1.25em\" style=\"font-size: 0.8em; letter-spacing: 1px\">\n",
       "        <textPath xlink:href=\"#arrow-79062b25844a43a796a0c88e0565eb76-0-4\" class=\"displacy-label\" startOffset=\"50%\" side=\"left\" fill=\"currentColor\" text-anchor=\"middle\">dobj</textPath>\n",
       "    </text>\n",
       "    <path class=\"displacy-arrowhead\" d=\"M550.0,104.0 L554.0,96.0 546.0,96.0\" fill=\"currentColor\"/>\n",
       "</g>\n",
       "</svg></span>"
      ],
      "text/plain": [
       "<IPython.core.display.HTML object>"
      ]
     },
     "metadata": {},
     "output_type": "display_data"
    }
   ],
   "source": [
    "# Display dependency visualization\n",
    "displacy.render(doc, style='dep', options={'compact': True, 'distance': 100})\n"
   ]
  },
  {
   "cell_type": "code",
   "execution_count": 15,
   "id": "066b33f9",
   "metadata": {},
   "outputs": [
    {
     "name": "stdout",
     "output_type": "stream",
     "text": [
      "Matching Sentence:  dog chased the cat\n",
      "Pattern Type:  SubRootDetObject\n",
      "Dependency: dog-nsubj\n",
      "Dependency: chased-ROOT\n",
      "Dependency: the-det\n",
      "Dependency: cat-dobj\n"
     ]
    }
   ],
   "source": [
    "for pattern_id, start, end in matches:\n",
    "    print(\"Matching Sentence: \", doc[start:end])\n",
    "    print(\"Pattern Type: \", doc.vocab.strings[pattern_id])\n",
    "    for token in doc[start:end]:\n",
    "        print(\"Dependency: {}-{}\".format(token.text, token.dep_))"
   ]
  },
  {
   "cell_type": "markdown",
   "id": "a7c9695d",
   "metadata": {},
   "source": [
    "# 3. Now design a third pattern for the sentence “The big dog chased the small cat”."
   ]
  },
  {
   "cell_type": "code",
   "execution_count": 16,
   "id": "24b23007",
   "metadata": {},
   "outputs": [],
   "source": [
    "pattern3 = [{\"DEP\": \"nsubj\"}, {\"DEP\": \"ROOT\"}, {\"DEP\": \"det\"}, {\"DEP\": \"amod\"}, {\"DEP\": \"dobj\"}]"
   ]
  },
  {
   "cell_type": "code",
   "execution_count": 17,
   "id": "e3423690",
   "metadata": {},
   "outputs": [],
   "source": [
    "matcher.add(\"SubRootDetAmodObject\", [pattern3])"
   ]
  },
  {
   "cell_type": "code",
   "execution_count": 18,
   "id": "65cdd4ef",
   "metadata": {},
   "outputs": [],
   "source": [
    "doc = nlp(\"The big dog chased the small cat\")"
   ]
  },
  {
   "cell_type": "code",
   "execution_count": 19,
   "id": "423c4801",
   "metadata": {},
   "outputs": [],
   "source": [
    "matches = matcher(doc)"
   ]
  },
  {
   "cell_type": "code",
   "execution_count": 20,
   "id": "398eb6c7",
   "metadata": {},
   "outputs": [
    {
     "data": {
      "text/html": [
       "<span class=\"tex2jax_ignore\"><svg xmlns=\"http://www.w3.org/2000/svg\" xmlns:xlink=\"http://www.w3.org/1999/xlink\" xml:lang=\"en\" id=\"026b37bea403418aa27c9c35b14f2d7c-0\" class=\"displacy\" width=\"750\" height=\"287.0\" direction=\"ltr\" style=\"max-width: none; height: 287.0px; color: #000000; background: #ffffff; font-family: Arial; direction: ltr\">\n",
       "<text class=\"displacy-token\" fill=\"currentColor\" text-anchor=\"middle\" y=\"197.0\">\n",
       "    <tspan class=\"displacy-word\" fill=\"currentColor\" x=\"50\">The</tspan>\n",
       "    <tspan class=\"displacy-tag\" dy=\"2em\" fill=\"currentColor\" x=\"50\">DET</tspan>\n",
       "</text>\n",
       "\n",
       "<text class=\"displacy-token\" fill=\"currentColor\" text-anchor=\"middle\" y=\"197.0\">\n",
       "    <tspan class=\"displacy-word\" fill=\"currentColor\" x=\"150\">big</tspan>\n",
       "    <tspan class=\"displacy-tag\" dy=\"2em\" fill=\"currentColor\" x=\"150\">ADJ</tspan>\n",
       "</text>\n",
       "\n",
       "<text class=\"displacy-token\" fill=\"currentColor\" text-anchor=\"middle\" y=\"197.0\">\n",
       "    <tspan class=\"displacy-word\" fill=\"currentColor\" x=\"250\">dog</tspan>\n",
       "    <tspan class=\"displacy-tag\" dy=\"2em\" fill=\"currentColor\" x=\"250\">NOUN</tspan>\n",
       "</text>\n",
       "\n",
       "<text class=\"displacy-token\" fill=\"currentColor\" text-anchor=\"middle\" y=\"197.0\">\n",
       "    <tspan class=\"displacy-word\" fill=\"currentColor\" x=\"350\">chased</tspan>\n",
       "    <tspan class=\"displacy-tag\" dy=\"2em\" fill=\"currentColor\" x=\"350\">VERB</tspan>\n",
       "</text>\n",
       "\n",
       "<text class=\"displacy-token\" fill=\"currentColor\" text-anchor=\"middle\" y=\"197.0\">\n",
       "    <tspan class=\"displacy-word\" fill=\"currentColor\" x=\"450\">the</tspan>\n",
       "    <tspan class=\"displacy-tag\" dy=\"2em\" fill=\"currentColor\" x=\"450\">DET</tspan>\n",
       "</text>\n",
       "\n",
       "<text class=\"displacy-token\" fill=\"currentColor\" text-anchor=\"middle\" y=\"197.0\">\n",
       "    <tspan class=\"displacy-word\" fill=\"currentColor\" x=\"550\">small</tspan>\n",
       "    <tspan class=\"displacy-tag\" dy=\"2em\" fill=\"currentColor\" x=\"550\">ADJ</tspan>\n",
       "</text>\n",
       "\n",
       "<text class=\"displacy-token\" fill=\"currentColor\" text-anchor=\"middle\" y=\"197.0\">\n",
       "    <tspan class=\"displacy-word\" fill=\"currentColor\" x=\"650\">cat</tspan>\n",
       "    <tspan class=\"displacy-tag\" dy=\"2em\" fill=\"currentColor\" x=\"650\">NOUN</tspan>\n",
       "</text>\n",
       "\n",
       "<g class=\"displacy-arrow\">\n",
       "    <path class=\"displacy-arc\" id=\"arrow-026b37bea403418aa27c9c35b14f2d7c-0-0\" stroke-width=\"2px\" d=\"M62,152.0 62,118.66666666666666 247.0,118.66666666666666 247.0,152.0\" fill=\"none\" stroke=\"currentColor\"/>\n",
       "    <text dy=\"1.25em\" style=\"font-size: 0.8em; letter-spacing: 1px\">\n",
       "        <textPath xlink:href=\"#arrow-026b37bea403418aa27c9c35b14f2d7c-0-0\" class=\"displacy-label\" startOffset=\"50%\" side=\"left\" fill=\"currentColor\" text-anchor=\"middle\">det</textPath>\n",
       "    </text>\n",
       "    <path class=\"displacy-arrowhead\" d=\"M62,154.0 L58,146.0 66,146.0\" fill=\"currentColor\"/>\n",
       "</g>\n",
       "\n",
       "<g class=\"displacy-arrow\">\n",
       "    <path class=\"displacy-arc\" id=\"arrow-026b37bea403418aa27c9c35b14f2d7c-0-1\" stroke-width=\"2px\" d=\"M162,152.0 162,135.33333333333334 244.0,135.33333333333334 244.0,152.0\" fill=\"none\" stroke=\"currentColor\"/>\n",
       "    <text dy=\"1.25em\" style=\"font-size: 0.8em; letter-spacing: 1px\">\n",
       "        <textPath xlink:href=\"#arrow-026b37bea403418aa27c9c35b14f2d7c-0-1\" class=\"displacy-label\" startOffset=\"50%\" side=\"left\" fill=\"currentColor\" text-anchor=\"middle\">amod</textPath>\n",
       "    </text>\n",
       "    <path class=\"displacy-arrowhead\" d=\"M162,154.0 L158,146.0 166,146.0\" fill=\"currentColor\"/>\n",
       "</g>\n",
       "\n",
       "<g class=\"displacy-arrow\">\n",
       "    <path class=\"displacy-arc\" id=\"arrow-026b37bea403418aa27c9c35b14f2d7c-0-2\" stroke-width=\"2px\" d=\"M262,152.0 262,135.33333333333334 344.0,135.33333333333334 344.0,152.0\" fill=\"none\" stroke=\"currentColor\"/>\n",
       "    <text dy=\"1.25em\" style=\"font-size: 0.8em; letter-spacing: 1px\">\n",
       "        <textPath xlink:href=\"#arrow-026b37bea403418aa27c9c35b14f2d7c-0-2\" class=\"displacy-label\" startOffset=\"50%\" side=\"left\" fill=\"currentColor\" text-anchor=\"middle\">nsubj</textPath>\n",
       "    </text>\n",
       "    <path class=\"displacy-arrowhead\" d=\"M262,154.0 L258,146.0 266,146.0\" fill=\"currentColor\"/>\n",
       "</g>\n",
       "\n",
       "<g class=\"displacy-arrow\">\n",
       "    <path class=\"displacy-arc\" id=\"arrow-026b37bea403418aa27c9c35b14f2d7c-0-3\" stroke-width=\"2px\" d=\"M462,152.0 462,118.66666666666666 647.0,118.66666666666666 647.0,152.0\" fill=\"none\" stroke=\"currentColor\"/>\n",
       "    <text dy=\"1.25em\" style=\"font-size: 0.8em; letter-spacing: 1px\">\n",
       "        <textPath xlink:href=\"#arrow-026b37bea403418aa27c9c35b14f2d7c-0-3\" class=\"displacy-label\" startOffset=\"50%\" side=\"left\" fill=\"currentColor\" text-anchor=\"middle\">det</textPath>\n",
       "    </text>\n",
       "    <path class=\"displacy-arrowhead\" d=\"M462,154.0 L458,146.0 466,146.0\" fill=\"currentColor\"/>\n",
       "</g>\n",
       "\n",
       "<g class=\"displacy-arrow\">\n",
       "    <path class=\"displacy-arc\" id=\"arrow-026b37bea403418aa27c9c35b14f2d7c-0-4\" stroke-width=\"2px\" d=\"M562,152.0 562,135.33333333333334 644.0,135.33333333333334 644.0,152.0\" fill=\"none\" stroke=\"currentColor\"/>\n",
       "    <text dy=\"1.25em\" style=\"font-size: 0.8em; letter-spacing: 1px\">\n",
       "        <textPath xlink:href=\"#arrow-026b37bea403418aa27c9c35b14f2d7c-0-4\" class=\"displacy-label\" startOffset=\"50%\" side=\"left\" fill=\"currentColor\" text-anchor=\"middle\">amod</textPath>\n",
       "    </text>\n",
       "    <path class=\"displacy-arrowhead\" d=\"M562,154.0 L558,146.0 566,146.0\" fill=\"currentColor\"/>\n",
       "</g>\n",
       "\n",
       "<g class=\"displacy-arrow\">\n",
       "    <path class=\"displacy-arc\" id=\"arrow-026b37bea403418aa27c9c35b14f2d7c-0-5\" stroke-width=\"2px\" d=\"M362,152.0 362,102.0 650.0,102.0 650.0,152.0\" fill=\"none\" stroke=\"currentColor\"/>\n",
       "    <text dy=\"1.25em\" style=\"font-size: 0.8em; letter-spacing: 1px\">\n",
       "        <textPath xlink:href=\"#arrow-026b37bea403418aa27c9c35b14f2d7c-0-5\" class=\"displacy-label\" startOffset=\"50%\" side=\"left\" fill=\"currentColor\" text-anchor=\"middle\">dobj</textPath>\n",
       "    </text>\n",
       "    <path class=\"displacy-arrowhead\" d=\"M650.0,154.0 L654.0,146.0 646.0,146.0\" fill=\"currentColor\"/>\n",
       "</g>\n",
       "</svg></span>"
      ],
      "text/plain": [
       "<IPython.core.display.HTML object>"
      ]
     },
     "metadata": {},
     "output_type": "display_data"
    }
   ],
   "source": [
    "displacy.render(doc, style='dep', options={'compact': True, 'distance': 100})\n"
   ]
  },
  {
   "cell_type": "code",
   "execution_count": 21,
   "id": "4e8845fe",
   "metadata": {},
   "outputs": [
    {
     "name": "stdout",
     "output_type": "stream",
     "text": [
      "Matching Sentence:  dog chased the small cat\n",
      "Pattern Type:  SubRootDetAmodObject\n",
      "Dependency: dog-429\n",
      "Dependency: chased-8206900633647566924\n",
      "Dependency: the-415\n",
      "Dependency: small-402\n",
      "Dependency: cat-416\n"
     ]
    }
   ],
   "source": [
    "for pattern_id, start, end in matches:\n",
    "    print(\"Matching Sentence: \", doc[start:end])\n",
    "    print(\"Pattern Type: \", doc.vocab.strings[pattern_id])\n",
    "    for token in doc[start:end]:\n",
    "        print(\"Dependency: {}-{}\".format(token.text, token.dep))\n"
   ]
  },
  {
   "cell_type": "markdown",
   "id": "44f32e3f",
   "metadata": {},
   "source": [
    "# 1. Design a pattern to identify a noun at least one time. "
   ]
  },
  {
   "cell_type": "code",
   "execution_count": 22,
   "id": "9c3d3b80",
   "metadata": {},
   "outputs": [],
   "source": [
    "# Pattern to identify a noun at least once\n",
    "pattern4 = [{\"POS\": \"NOUN\", \"OP\": \"+\"}]"
   ]
  },
  {
   "cell_type": "code",
   "execution_count": 23,
   "id": "7c2351b5",
   "metadata": {},
   "outputs": [],
   "source": [
    "# Finding matches for a sentence\n",
    "matches = matcher(nlp(\"The big cat chased the small dog\"))"
   ]
  },
  {
   "cell_type": "code",
   "execution_count": 24,
   "id": "f00a1570",
   "metadata": {},
   "outputs": [
    {
     "name": "stdout",
     "output_type": "stream",
     "text": [
      "Matching Sentence:  dog chased the small cat\n",
      "Pattern Type:  SubRootDetAmodObject\n",
      "Token: dog, POS: NOUN\n",
      "Token: chased, POS: VERB\n",
      "Token: the, POS: DET\n",
      "Token: small, POS: ADJ\n",
      "Token: cat, POS: NOUN\n"
     ]
    }
   ],
   "source": [
    "for pattern_id, start, end in matches:\n",
    "    print(\"Matching Sentence: \", doc[start:end])\n",
    "    print(\"Pattern Type: \", doc.vocab.strings[pattern_id])\n",
    "    for token in doc[start:end]:\n",
    "        print(\"Token: {}, POS: {}\".format(token.text, token.pos_))\n"
   ]
  },
  {
   "cell_type": "markdown",
   "id": "943a41d6",
   "metadata": {},
   "source": [
    "# 2. Design a pattern to identify a noun of length >= 10 characters."
   ]
  },
  {
   "cell_type": "code",
   "execution_count": 25,
   "id": "21b64d52",
   "metadata": {},
   "outputs": [],
   "source": [
    "# Pattern to identify a noun of length >= 10 characters\n",
    "pattern5 = [{\"POS\": \"NOUN\", \"LENGTH\": {\">=\": 10}}]"
   ]
  },
  {
   "cell_type": "code",
   "execution_count": 26,
   "id": "929eb819",
   "metadata": {},
   "outputs": [],
   "source": [
    "# Finding matches for a sentence\n",
    "matches = matcher(nlp(\"The elephant chased the small cat\"))"
   ]
  },
  {
   "cell_type": "code",
   "execution_count": 27,
   "id": "3506ed72",
   "metadata": {},
   "outputs": [
    {
     "name": "stdout",
     "output_type": "stream",
     "text": [
      "Matching Sentence:  big dog chased the small\n",
      "Pattern Type:  SubRootDetAmodObject\n",
      "Token: big, POS: ADJ\n",
      "Token: dog, POS: NOUN\n",
      "Token: chased, POS: VERB\n",
      "Token: the, POS: DET\n",
      "Token: small, POS: ADJ\n"
     ]
    }
   ],
   "source": [
    "for pattern_id, start, end in matches:\n",
    "    print(\"Matching Sentence: \", doc[start:end])\n",
    "    print(\"Pattern Type: \", doc.vocab.strings[pattern_id])\n",
    "    for token in doc[start:end]:\n",
    "        print(\"Token: {}, POS: {}\".format(token.text, token.pos_))\n"
   ]
  },
  {
   "cell_type": "markdown",
   "id": "6245a32d",
   "metadata": {},
   "source": [
    "# 3. Design a pattern to identify vulgar language (Hint: you will need usage of IN, or NOT_IN).\n"
   ]
  },
  {
   "cell_type": "code",
   "execution_count": 28,
   "id": "65d10578",
   "metadata": {},
   "outputs": [],
   "source": [
    "pattern6 = [{\"LOWER\": {\"IN\": [\"swear_word1\", \"swear_word2\"]}}]"
   ]
  },
  {
   "cell_type": "code",
   "execution_count": 29,
   "id": "8c18331c",
   "metadata": {},
   "outputs": [],
   "source": [
    "matches = matcher(doc)"
   ]
  },
  {
   "cell_type": "code",
   "execution_count": 30,
   "id": "7833b05c",
   "metadata": {},
   "outputs": [
    {
     "name": "stdout",
     "output_type": "stream",
     "text": [
      "Matching Sentence:  dog chased the small cat\n",
      "Pattern Type:  SubRootDetAmodObject\n",
      "Token: dog, LOWER: dog\n",
      "Token: chased, LOWER: chased\n",
      "Token: the, LOWER: the\n",
      "Token: small, LOWER: small\n",
      "Token: cat, LOWER: cat\n"
     ]
    }
   ],
   "source": [
    "for pattern_id, start, end in matches:\n",
    "    print(\"Matching Sentence: \", doc[start:end])\n",
    "    print(\"Pattern Type: \", doc.vocab.strings[pattern_id])\n",
    "    for token in doc[start:end]:\n",
    "        print(\"Token: {}, LOWER: {}\".format(token.text, token.lower_))\n"
   ]
  },
  {
   "cell_type": "markdown",
   "id": "069f64f5",
   "metadata": {},
   "source": [
    "# Task 6: Getting Replies"
   ]
  },
  {
   "cell_type": "code",
   "execution_count": 31,
   "id": "a0844725",
   "metadata": {},
   "outputs": [],
   "source": [
    "def utterance(msg):\n",
    "    nlp = spacy.load('en_core_web_sm')\n",
    "    doc = nlp(msg)\n",
    "    matcher = Matcher(nlp.vocab)\n",
    "\n",
    "    # Greeting pattern\n",
    "    pattern1 = [{\"LEMMA\": {\"IN\": [\"salam\", \"assalam\", \"hi\", \"hello\"]}}]\n",
    "    matcher.add(\"greeting\", [pattern1])\n",
    "\n",
    "    # Ordering pizza pattern\n",
    "    pattern2 = [{\"LOWER\": \"i\"}, {\"LOWER\": \"would\"}, {\"LOWER\": \"like\"}, {\"LOWER\": \"to\"}, {\"LOWER\": \"order\"}, {\"LOWER\": \"a\"},\n",
    "                {\"LOWER\": \"pizza\"}]\n",
    "    matcher.add(\"ordering_pizza\", [pattern2])\n",
    "\n",
    "    # Complaint pattern\n",
    "    pattern3 = [{\"LOWER\": \"i\"}, {\"LOWER\": \"would\"}, {\"LOWER\": \"like\"}, {\"LOWER\": \"to\"}, {\"LOWER\": \"complain\"},\n",
    "                {\"LOWER\": \"about\"}, {\"LOWER\": \"an\"}, {\"LOWER\": \"order\"}]\n",
    "    matcher.add(\"complaint\", [pattern3])\n",
    "\n",
    "    matches = matcher(doc)\n",
    "\n",
    "    if len(matches) == 0:\n",
    "        print('Please rephrase your request. Be as specific as possible!')\n",
    "        return\n",
    "\n",
    "    for pattern_id, start, end in matches:\n",
    "        if doc.vocab.strings[pattern_id] == \"greeting\":\n",
    "            return \"Welcome to Pizza ordering system\"\n",
    "        elif doc.vocab.strings[pattern_id] == \"ordering_pizza\":\n",
    "            return \"Sure! What type of pizza would you like to order?\"\n",
    "        elif doc.vocab.strings[pattern_id] == \"complaint\":\n",
    "            return \"I'm sorry to hear about your issue. Please provide details so I can assist you.\"\n",
    "\n"
   ]
  },
  {
   "cell_type": "code",
   "execution_count": 32,
   "id": "1df15416",
   "metadata": {},
   "outputs": [
    {
     "name": "stdout",
     "output_type": "stream",
     "text": [
      "You: hi\n",
      "Bot: Welcome to Pizza ordering system\n",
      "You: i would like to order a pizza\n",
      "Bot: Sure! What type of pizza would you like to order?\n",
      "You: i would like to complain about an order\n",
      "Bot: I'm sorry to hear about your issue. Please provide details so I can assist you.\n",
      "You: quit\n"
     ]
    }
   ],
   "source": [
    "# Interaction loop\n",
    "while True:\n",
    "    message = input(\"You: \")\n",
    "    if message.lower() == \"quit\":\n",
    "        break\n",
    "    else:\n",
    "        print(\"Bot:\", utterance(message))"
   ]
  },
  {
   "cell_type": "code",
   "execution_count": null,
   "id": "bfc97de4",
   "metadata": {},
   "outputs": [],
   "source": []
  }
 ],
 "metadata": {
  "kernelspec": {
   "display_name": "Python 3 (ipykernel)",
   "language": "python",
   "name": "python3"
  },
  "language_info": {
   "codemirror_mode": {
    "name": "ipython",
    "version": 3
   },
   "file_extension": ".py",
   "mimetype": "text/x-python",
   "name": "python",
   "nbconvert_exporter": "python",
   "pygments_lexer": "ipython3",
   "version": "3.11.5"
  }
 },
 "nbformat": 4,
 "nbformat_minor": 5
}
